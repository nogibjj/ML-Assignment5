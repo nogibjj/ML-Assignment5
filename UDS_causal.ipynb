{
 "cells": [
  {
   "cell_type": "code",
   "execution_count": 1,
   "metadata": {},
   "outputs": [],
   "source": [
    "import numpy as np\n",
    "import pandas as pd"
   ]
  },
  {
   "cell_type": "code",
   "execution_count": 3,
   "metadata": {},
   "outputs": [
    {
     "data": {
      "text/html": [
       "<div>\n",
       "<style scoped>\n",
       "    .dataframe tbody tr th:only-of-type {\n",
       "        vertical-align: middle;\n",
       "    }\n",
       "\n",
       "    .dataframe tbody tr th {\n",
       "        vertical-align: top;\n",
       "    }\n",
       "\n",
       "    .dataframe thead th {\n",
       "        text-align: right;\n",
       "    }\n",
       "</style>\n",
       "<table border=\"1\" class=\"dataframe\">\n",
       "  <thead>\n",
       "    <tr style=\"text-align: right;\">\n",
       "      <th></th>\n",
       "      <th>DATE</th>\n",
       "      <th>sector</th>\n",
       "      <th>layoffs</th>\n",
       "      <th>ticker</th>\n",
       "      <th>Date</th>\n",
       "      <th>price</th>\n",
       "      <th>log_return</th>\n",
       "    </tr>\n",
       "  </thead>\n",
       "  <tbody>\n",
       "    <tr>\n",
       "      <th>0</th>\n",
       "      <td>2000-12-01</td>\n",
       "      <td>Accommodation and Food Services</td>\n",
       "      <td>133</td>\n",
       "      <td>XLY</td>\n",
       "      <td>2000-12-01</td>\n",
       "      <td>19.431828</td>\n",
       "      <td>NaN</td>\n",
       "    </tr>\n",
       "    <tr>\n",
       "      <th>1</th>\n",
       "      <td>2001-01-01</td>\n",
       "      <td>Accommodation and Food Services</td>\n",
       "      <td>191</td>\n",
       "      <td>XLY</td>\n",
       "      <td>2001-01-01</td>\n",
       "      <td>21.745836</td>\n",
       "      <td>0.119083</td>\n",
       "    </tr>\n",
       "    <tr>\n",
       "      <th>2</th>\n",
       "      <td>2001-02-01</td>\n",
       "      <td>Accommodation and Food Services</td>\n",
       "      <td>93</td>\n",
       "      <td>XLY</td>\n",
       "      <td>2001-02-01</td>\n",
       "      <td>20.193089</td>\n",
       "      <td>-0.071404</td>\n",
       "    </tr>\n",
       "    <tr>\n",
       "      <th>3</th>\n",
       "      <td>2001-03-01</td>\n",
       "      <td>Accommodation and Food Services</td>\n",
       "      <td>207</td>\n",
       "      <td>XLY</td>\n",
       "      <td>2001-03-01</td>\n",
       "      <td>19.858204</td>\n",
       "      <td>-0.016584</td>\n",
       "    </tr>\n",
       "    <tr>\n",
       "      <th>4</th>\n",
       "      <td>2001-04-01</td>\n",
       "      <td>Accommodation and Food Services</td>\n",
       "      <td>257</td>\n",
       "      <td>XLY</td>\n",
       "      <td>2001-04-01</td>\n",
       "      <td>20.821493</td>\n",
       "      <td>0.048508</td>\n",
       "    </tr>\n",
       "  </tbody>\n",
       "</table>\n",
       "</div>"
      ],
      "text/plain": [
       "         DATE                           sector  layoffs ticker        Date  \\\n",
       "0  2000-12-01  Accommodation and Food Services      133    XLY  2000-12-01   \n",
       "1  2001-01-01  Accommodation and Food Services      191    XLY  2001-01-01   \n",
       "2  2001-02-01  Accommodation and Food Services       93    XLY  2001-02-01   \n",
       "3  2001-03-01  Accommodation and Food Services      207    XLY  2001-03-01   \n",
       "4  2001-04-01  Accommodation and Food Services      257    XLY  2001-04-01   \n",
       "\n",
       "       price  log_return  \n",
       "0  19.431828         NaN  \n",
       "1  21.745836    0.119083  \n",
       "2  20.193089   -0.071404  \n",
       "3  19.858204   -0.016584  \n",
       "4  20.821493    0.048508  "
      ]
     },
     "execution_count": 3,
     "metadata": {},
     "output_type": "execute_result"
    }
   ],
   "source": [
    "data = pd.read_csv('/workspaces/ML-Assignment5/layoffs_and_stocks.csv')\n",
    "data.head()"
   ]
  },
  {
   "cell_type": "code",
   "execution_count": 4,
   "metadata": {},
   "outputs": [
    {
     "name": "stdout",
     "output_type": "stream",
     "text": [
      "year\n",
      "2012    216\n",
      "2001    216\n",
      "2022    216\n",
      "2021    216\n",
      "2020    216\n",
      "2019    216\n",
      "2018    216\n",
      "2017    216\n",
      "2016    216\n",
      "2015    216\n",
      "2014    216\n",
      "2013    216\n",
      "2023    216\n",
      "2011    216\n",
      "2010    216\n",
      "2009    216\n",
      "2008    216\n",
      "2007    216\n",
      "2006    216\n",
      "2005    216\n",
      "2004    216\n",
      "2003    216\n",
      "2002    216\n",
      "2000     18\n",
      "Name: count, dtype: int64\n"
     ]
    }
   ],
   "source": [
    "data['DATE'] = pd.to_datetime(data['DATE'])\n",
    "data['year'] = data['DATE'].dt.year\n",
    "year_frequency = data['year'].value_counts()\n",
    "print(year_frequency)"
   ]
  },
  {
   "cell_type": "code",
   "execution_count": 5,
   "metadata": {},
   "outputs": [
    {
     "data": {
      "text/plain": [
       "sector\n",
       "Accommodation and Food Services               277\n",
       "Arts, Entertainment, and Recreation           277\n",
       "Trade, Transportation, and Utilities          277\n",
       "State and Local                               277\n",
       "Retail Trade                                  277\n",
       "Real Estate and Rental and Leasing            277\n",
       "Professional and Business Services            277\n",
       "Mining and Logging                            277\n",
       "Manufacturing                                 277\n",
       "Leisure and Hospitality                       277\n",
       "Information                                   277\n",
       "Health Care and Social Assistance             277\n",
       "Government                                    277\n",
       "Financial Activities                          277\n",
       "Finance and Insurance                         277\n",
       "Education and Health Services                 277\n",
       "Construction                                  277\n",
       "Transportation, Warehousing, and Utilities    277\n",
       "Name: count, dtype: int64"
      ]
     },
     "execution_count": 5,
     "metadata": {},
     "output_type": "execute_result"
    }
   ],
   "source": [
    "data['sector'].value_counts()"
   ]
  },
  {
   "cell_type": "code",
   "execution_count": 6,
   "metadata": {},
   "outputs": [
    {
     "name": "stdout",
     "output_type": "stream",
     "text": [
      "year\n",
      "2012    12\n",
      "2001    12\n",
      "2022    12\n",
      "2021    12\n",
      "2020    12\n",
      "2019    12\n",
      "2018    12\n",
      "2017    12\n",
      "2016    12\n",
      "2015    12\n",
      "2014    12\n",
      "2013    12\n",
      "2023    12\n",
      "2011    12\n",
      "2010    12\n",
      "2009    12\n",
      "2008    12\n",
      "2007    12\n",
      "2006    12\n",
      "2005    12\n",
      "2004    12\n",
      "2003    12\n",
      "2002    12\n",
      "2000     1\n",
      "Name: count, dtype: int64\n"
     ]
    }
   ],
   "source": [
    "filtered_data = data[data['sector'] == 'Accommodation and Food Services']\n",
    "year_frequency = filtered_data['year'].value_counts()\n",
    "print(year_frequency)"
   ]
  }
 ],
 "metadata": {
  "kernelspec": {
   "display_name": "Python 3",
   "language": "python",
   "name": "python3"
  },
  "language_info": {
   "codemirror_mode": {
    "name": "ipython",
    "version": 3
   },
   "file_extension": ".py",
   "mimetype": "text/x-python",
   "name": "python",
   "nbconvert_exporter": "python",
   "pygments_lexer": "ipython3",
   "version": "3.10.13"
  }
 },
 "nbformat": 4,
 "nbformat_minor": 2
}
